{
 "cells": [
  {
   "cell_type": "markdown",
   "id": "56ba2dd6",
   "metadata": {},
   "source": [
    "### 1) Develop a python program to read n digit integer number and seperate the integer number and display each digit"
   ]
  },
  {
   "cell_type": "code",
   "execution_count": 10,
   "id": "efa0c386",
   "metadata": {},
   "outputs": [
    {
     "name": "stdout",
     "output_type": "stream",
     "text": [
      "enter the number of digits:3\n",
      "enter 3-digit integer123\n",
      "1\n",
      "2\n",
      "3\n"
     ]
    }
   ],
   "source": [
    "n=int(input(\"enter the number of digits:\"))\n",
    "if n>0:\n",
    "    number=int(input(f\"enter {n}-digit integer\"))\n",
    "    if number>=10**(n-1)and number<10**n:\n",
    "        for i in range(n):\n",
    "            digit=number//(10**(n-1))\n",
    "            print(digit)\n",
    "            number%=10**(n-1)\n",
    "            n-=1\n",
    "    else:\n",
    "        print(f\"please enter a {n}-digit integer\")\n",
    "else:\n",
    "    print(f\"please enter a valid number of digits(greater than 0)\" )"
   ]
  },
  {
   "cell_type": "markdown",
   "id": "842b6c49",
   "metadata": {},
   "source": [
    "### 2). Develop a python program to accept 4 numbers an display them in sorted order using a minimum number of if-else statement"
   ]
  },
  {
   "cell_type": "code",
   "execution_count": 9,
   "id": "1cfa291f",
   "metadata": {},
   "outputs": [
    {
     "name": "stdout",
     "output_type": "stream",
     "text": [
      "enter the first number4\n",
      "enter the second number3\n",
      "enter the third number7\n",
      "enter the fourth number1\n",
      "the sorted numbers are: 1 3 4 7\n"
     ]
    }
   ],
   "source": [
    "a=int(input(\"enter the first number\"))\n",
    "b=int(input(\"enter the second number\"))\n",
    "c=int(input(\"enter the third number\"))\n",
    "d=int(input(\"enter the fourth number\"))\n",
    "if a>b:a,b=b,a\n",
    "if c>d:c,d=d,c \n",
    "if a>c:a,c=c,a\n",
    "if b>d:b,d=d,b\n",
    "if b>c:b,c=c,b\n",
    "print(\"the sorted numbers are:\",a,b,c,d)\n",
    "    "
   ]
  },
  {
   "cell_type": "markdown",
   "id": "dafe6582",
   "metadata": {},
   "source": [
    "## Find the bitwise AND of 10 and 9"
   ]
  },
  {
   "cell_type": "code",
   "execution_count": 10,
   "id": "4a402d05",
   "metadata": {},
   "outputs": [
    {
     "name": "stdout",
     "output_type": "stream",
     "text": [
      "8\n"
     ]
    }
   ],
   "source": [
    "a=10&9\n",
    "print(a)"
   ]
  },
  {
   "cell_type": "markdown",
   "id": "0c28af60",
   "metadata": {},
   "source": [
    "## Find the bitwise OR of 10 and 9"
   ]
  },
  {
   "cell_type": "code",
   "execution_count": 12,
   "id": "ec30212e",
   "metadata": {},
   "outputs": [
    {
     "name": "stdout",
     "output_type": "stream",
     "text": [
      "11\n"
     ]
    }
   ],
   "source": [
    "a=10|9\n",
    "print(a)"
   ]
  },
  {
   "cell_type": "markdown",
   "id": "e9522e77",
   "metadata": {},
   "source": [
    "## Find the bitwise NOT of 10 and 9"
   ]
  },
  {
   "cell_type": "code",
   "execution_count": 13,
   "id": "5f816463",
   "metadata": {},
   "outputs": [
    {
     "name": "stdout",
     "output_type": "stream",
     "text": [
      "-11\n"
     ]
    }
   ],
   "source": [
    "a=~10\n",
    "print(a)"
   ]
  },
  {
   "cell_type": "markdown",
   "id": "ace335f5",
   "metadata": {},
   "source": [
    "## Find the bitwise XOR of 10 and 9"
   ]
  },
  {
   "cell_type": "code",
   "execution_count": 1,
   "id": "9ffbb719",
   "metadata": {},
   "outputs": [
    {
     "name": "stdout",
     "output_type": "stream",
     "text": [
      "-3\n"
     ]
    }
   ],
   "source": [
    "a=-12\n",
    "b=a>>2\n",
    "print(b)\n"
   ]
  },
  {
   "cell_type": "code",
   "execution_count": 4,
   "id": "2de4ed59",
   "metadata": {},
   "outputs": [
    {
     "data": {
      "text/plain": [
       "'0b1'"
      ]
     },
     "execution_count": 4,
     "metadata": {},
     "output_type": "execute_result"
    }
   ],
   "source": [
    "bin(1)"
   ]
  },
  {
   "cell_type": "code",
   "execution_count": 20,
   "id": "a1863bb5",
   "metadata": {},
   "outputs": [
    {
     "data": {
      "text/plain": [
       "False"
      ]
     },
     "execution_count": 20,
     "metadata": {},
     "output_type": "execute_result"
    }
   ],
   "source": [
    "a=3\n",
    "b=2\n",
    "a is b"
   ]
  },
  {
   "cell_type": "markdown",
   "id": "6624ef9e",
   "metadata": {},
   "source": [
    "### develop a program for checking if a given n digit number is palindrome or not ."
   ]
  },
  {
   "cell_type": "code",
   "execution_count": 12,
   "id": "f4fc08fd",
   "metadata": {},
   "outputs": [
    {
     "name": "stdout",
     "output_type": "stream",
     "text": [
      "Enter an n-digit number:121\n",
      "palindrome\n"
     ]
    }
   ],
   "source": [
    "num=int(input(\"Enter an n-digit number:\"))\n",
    "origin_num=num\n",
    "rev_num=0\n",
    "while num>0:\n",
    "    digit=num%10\n",
    "    rev_num=rev_num*10+digit\n",
    "    num//=10\n",
    "if origin_num==rev_num:\n",
    "    print(\"palindrome\")\n",
    "else:\n",
    "    print(\"Not a palindrome\")"
   ]
  },
  {
   "cell_type": "markdown",
   "id": "2ac49c68",
   "metadata": {},
   "source": [
    "### Develop a python script to display a multiplication table for given integer n."
   ]
  },
  {
   "cell_type": "code",
   "execution_count": 13,
   "id": "f38136e7",
   "metadata": {},
   "outputs": [
    {
     "name": "stdout",
     "output_type": "stream",
     "text": [
      "Enter an integer for the multiplication table:-3\n",
      "Multiplication Table for -3:\n",
      "-3x1=-3\n",
      "-3x2=-6\n",
      "-3x3=-9\n",
      "-3x4=-12\n",
      "-3x5=-15\n",
      "-3x6=-18\n",
      "-3x7=-21\n",
      "-3x8=-24\n",
      "-3x9=-27\n",
      "-3x10=-30\n"
     ]
    }
   ],
   "source": [
    "n=int(input(\"Enter an integer for the multiplication table:\"))\n",
    "print(f\"Multiplication Table for {n}:\")\n",
    "for i in range (1,11):\n",
    "    result=n*i;\n",
    "    print(f\"{n}x{i}={result}\")"
   ]
  },
  {
   "cell_type": "code",
   "execution_count": null,
   "id": "62f6c9f6",
   "metadata": {},
   "outputs": [],
   "source": []
  }
 ],
 "metadata": {
  "kernelspec": {
   "display_name": "Python 3 (ipykernel)",
   "language": "python",
   "name": "python3"
  },
  "language_info": {
   "codemirror_mode": {
    "name": "ipython",
    "version": 3
   },
   "file_extension": ".py",
   "mimetype": "text/x-python",
   "name": "python",
   "nbconvert_exporter": "python",
   "pygments_lexer": "ipython3",
   "version": "3.10.9"
  }
 },
 "nbformat": 4,
 "nbformat_minor": 5
}
