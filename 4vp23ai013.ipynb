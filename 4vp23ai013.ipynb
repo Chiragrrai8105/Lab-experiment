{
 "cells": [
  {
   "cell_type": "markdown",
   "id": "56ba2dd6",
   "metadata": {},
   "source": [
    "### 1) Develop a python program to read n digit integer number and seperate the integer number and display each digit"
   ]
  },
  {
   "cell_type": "code",
   "execution_count": 10,
   "id": "efa0c386",
   "metadata": {},
   "outputs": [
    {
     "name": "stdout",
     "output_type": "stream",
     "text": [
      "enter the number of digits:3\n",
      "enter 3-digit integer123\n",
      "1\n",
      "2\n",
      "3\n"
     ]
    }
   ],
   "source": [
    "n=int(input(\"enter the number of digits:\"))\n",
    "if n>0:\n",
    "    number=int(input(f\"enter {n}-digit integer\"))\n",
    "    if number>=10**(n-1)and number<10**n:\n",
    "        for i in range(n):\n",
    "            digit=number//(10**(n-1))\n",
    "            print(digit)\n",
    "            number%=10**(n-1)\n",
    "            n-=1\n",
    "    else:\n",
    "        print(f\"please enter a {n}-digit integer\")\n",
    "else:\n",
    "    print(f\"please enter a valid number of digits(greater than 0)\" )"
   ]
  },
  {
   "cell_type": "markdown",
   "id": "842b6c49",
   "metadata": {},
   "source": [
    "### 2). Develop a python program to accept 4 numbers an display them in sorted order using a minimum number of if-else statement"
   ]
  },
  {
   "cell_type": "code",
   "execution_count": 9,
   "id": "1cfa291f",
   "metadata": {},
   "outputs": [
    {
     "name": "stdout",
     "output_type": "stream",
     "text": [
      "enter the first number4\n",
      "enter the second number3\n",
      "enter the third number7\n",
      "enter the fourth number1\n",
      "the sorted numbers are: 1 3 4 7\n"
     ]
    }
   ],
   "source": [
    "a=int(input(\"enter the first number\"))\n",
    "b=int(input(\"enter the second number\"))\n",
    "c=int(input(\"enter the third number\"))\n",
    "d=int(input(\"enter the fourth number\"))\n",
    "if a>b:a,b=b,a\n",
    "if c>d:c,d=d,c \n",
    "if a>c:a,c=c,a\n",
    "if b>d:b,d=d,b\n",
    "if b>c:b,c=c,b\n",
    "print(\"the sorted numbers are:\",a,b,c,d)\n",
    "    "
   ]
  },
  {
   "cell_type": "markdown",
   "id": "dafe6582",
   "metadata": {},
   "source": [
    "## Find the bitwise AND of 10 and 9"
   ]
  },
  {
   "cell_type": "code",
   "execution_count": 10,
   "id": "4a402d05",
   "metadata": {},
   "outputs": [
    {
     "name": "stdout",
     "output_type": "stream",
     "text": [
      "8\n"
     ]
    }
   ],
   "source": [
    "a=10&9\n",
    "print(a)"
   ]
  },
  {
   "cell_type": "markdown",
   "id": "0c28af60",
   "metadata": {},
   "source": [
    "## Find the bitwise OR of 10 and 9"
   ]
  },
  {
   "cell_type": "code",
   "execution_count": 12,
   "id": "ec30212e",
   "metadata": {},
   "outputs": [
    {
     "name": "stdout",
     "output_type": "stream",
     "text": [
      "11\n"
     ]
    }
   ],
   "source": [
    "a=10|9\n",
    "print(a)"
   ]
  },
  {
   "cell_type": "markdown",
   "id": "e9522e77",
   "metadata": {},
   "source": [
    "## Find the bitwise NOT of 10 and 9"
   ]
  },
  {
   "cell_type": "code",
   "execution_count": 13,
   "id": "5f816463",
   "metadata": {},
   "outputs": [
    {
     "name": "stdout",
     "output_type": "stream",
     "text": [
      "-11\n"
     ]
    }
   ],
   "source": [
    "a=~10\n",
    "print(a)"
   ]
  },
  {
   "cell_type": "markdown",
   "id": "ace335f5",
   "metadata": {},
   "source": [
    "## Find the bitwise XOR of 10 and 9"
   ]
  },
  {
   "cell_type": "code",
   "execution_count": 1,
   "id": "9ffbb719",
   "metadata": {},
   "outputs": [
    {
     "name": "stdout",
     "output_type": "stream",
     "text": [
      "-3\n"
     ]
    }
   ],
   "source": [
    "a=-12\n",
    "b=a>>2\n",
    "print(b)\n"
   ]
  },
  {
   "cell_type": "code",
   "execution_count": 4,
   "id": "2de4ed59",
   "metadata": {},
   "outputs": [
    {
     "data": {
      "text/plain": [
       "'0b1'"
      ]
     },
     "execution_count": 4,
     "metadata": {},
     "output_type": "execute_result"
    }
   ],
   "source": [
    "bin(1)"
   ]
  },
  {
   "cell_type": "code",
   "execution_count": 20,
   "id": "a1863bb5",
   "metadata": {},
   "outputs": [
    {
     "data": {
      "text/plain": [
       "False"
      ]
     },
     "execution_count": 20,
     "metadata": {},
     "output_type": "execute_result"
    }
   ],
   "source": [
    "a=3\n",
    "b=2\n",
    "a is b"
   ]
  },
  {
   "cell_type": "markdown",
   "id": "1b9b6eb6",
   "metadata": {},
   "source": [
    "### 3) develop a program for checking if a given n digit number is palindrome or not ."
   ]
  },
  {
   "cell_type": "code",
   "execution_count": 12,
   "id": "f4fc08fd",
   "metadata": {},
   "outputs": [
    {
     "name": "stdout",
     "output_type": "stream",
     "text": [
      "Enter an n-digit number:121\n",
      "palindrome\n"
     ]
    }
   ],
   "source": [
    "num=int(input(\"Enter an n-digit number:\"))\n",
    "origin_num=num\n",
    "rev_num=0\n",
    "while num>0:\n",
    "    digit=num%10\n",
    "    rev_num=rev_num*10+digit\n",
    "    num//=10\n",
    "if origin_num==rev_num:\n",
    "    print(\"palindrome\")\n",
    "else:\n",
    "    print(\"Not a palindrome\")"
   ]
  },
  {
   "cell_type": "markdown",
   "id": "314a583c",
   "metadata": {},
   "source": [
    "### 4) Develop a python script to display a multiplication table for given integer n."
   ]
  },
  {
   "cell_type": "code",
   "execution_count": 13,
   "id": "8620c687",
   "metadata": {},
   "outputs": [
    {
     "name": "stdout",
     "output_type": "stream",
     "text": [
      "Enter an integer for the multiplication table:-3\n",
      "Multiplication Table for -3:\n",
      "-3x1=-3\n",
      "-3x2=-6\n",
      "-3x3=-9\n",
      "-3x4=-12\n",
      "-3x5=-15\n",
      "-3x6=-18\n",
      "-3x7=-21\n",
      "-3x8=-24\n",
      "-3x9=-27\n",
      "-3x10=-30\n"
     ]
    }
   ],
   "source": [
    "n=int(input(\"Enter an integer for the multiplication table:\"))\n",
    "print(f\"Multiplication Table for {n}:\")\n",
    "for i in range (1,11):\n",
    "    result=n*i;\n",
    "    print(f\"{n}x{i}={result}\")"
   ]
  },
  {
   "cell_type": "code",
   "execution_count": 14,
   "id": "0b945a43",
   "metadata": {},
   "outputs": [
    {
     "data": {
      "text/plain": [
       "False"
      ]
     },
     "execution_count": 14,
     "metadata": {},
     "output_type": "execute_result"
    }
   ],
   "source": [
    "t1=7\n",
    "t2=8\n",
    "t1 is t2"
   ]
  },
  {
   "cell_type": "code",
   "execution_count": 17,
   "id": "e940f3f0",
   "metadata": {},
   "outputs": [
    {
     "name": "stdout",
     "output_type": "stream",
     "text": [
      "I am,from,India\n"
     ]
    }
   ],
   "source": [
    "print(\"I am\",\"from\",\"India\",sep=\",\")"
   ]
  },
  {
   "cell_type": "markdown",
   "id": "c2c12d74",
   "metadata": {},
   "source": [
    "### 5) Develop a python scripts to calculate the mean,median,mode,variance and S.D of n integer number"
   ]
  },
  {
   "cell_type": "code",
   "execution_count": 1,
   "id": "3e447af9",
   "metadata": {},
   "outputs": [
    {
     "name": "stdout",
     "output_type": "stream",
     "text": [
      "Enter5 the number of elements6\n",
      "Enter number 1:4\n",
      "Enter number 2:8\n",
      "Enter number 3:6\n",
      "Enter number 4:5\n",
      "Enter number 5:3\n",
      "Enter number 6:9\n",
      "mean=5.833333333333333\n",
      "median=5.5\n",
      "mode=Nomode\n",
      "sample variance=5.366666666666667\n",
      "population variance=4.472222222222222\n",
      "sample standard deviation=2.316606713852541\n",
      "population standard deviation=2.1147629234082532\n"
     ]
    }
   ],
   "source": [
    "n=int(input(\"Enter5 the number of elements\"))\n",
    "num=[int(input(f\"Enter number {i+1}:\")) for i in range(n)]\n",
    "mean=sum(num)/n\n",
    "num.sort()\n",
    "if n%2==0:\n",
    "    median=(num[n//2-1]+num[n//2])/2\n",
    "else:\n",
    "    median=num[n//2]\n",
    "frequency={nums:num.count(nums) for nums in num}\n",
    "max_count=max(frequency.values())\n",
    "mode=[k for k,v in frequency.items() if v==max_count]\n",
    "if len(mode)==n:\n",
    "    mode=\"Nomode\"\n",
    "mean_dif_squ_sum=sum((x-mean)**2 for x in num)\n",
    "var_sam=mean_dif_squ_sum/(n-1) if n>1 else 0\n",
    "var_pop=mean_dif_squ_sum/n\n",
    "std_div_sam=var_sam**0.5\n",
    "std_div_pop=var_pop**0.5\n",
    "print(f\"mean={mean}\")\n",
    "print(f\"median={median}\")\n",
    "print(f\"mode={mode}\")\n",
    "print(f\"sample variance={var_sam}\")\n",
    "print(f\"population variance={var_pop}\")\n",
    "print(f\"sample standard deviation={std_div_sam}\")\n",
    "print(f\"population standard deviation={std_div_pop}\")"
   ]
  },
  {
   "cell_type": "markdown",
   "id": "0247b882",
   "metadata": {},
   "source": [
    "### 6) develop a python program to read to rotate right abouyt a given position in that list and display them[hint: input[1,4,5,-10] position:2 output[-10,5,4,1]"
   ]
  },
  {
   "cell_type": "code",
   "execution_count": 2,
   "id": "376b9247",
   "metadata": {},
   "outputs": [
    {
     "name": "stdout",
     "output_type": "stream",
     "text": [
      "enter the integer number:253\n",
      "the reverse number is:352\n"
     ]
    }
   ],
   "source": [
    "number=int(input(\"enter the integer number:\"))\n",
    "revs_number=0\n",
    "while(number>0):\n",
    "    remainder=number%10\n",
    "    revs_number=((revs_number)*10)+remainder\n",
    "    number=number//10\n",
    "print(\"the reverse number is:{}\".format(revs_number))"
   ]
  },
  {
   "cell_type": "markdown",
   "id": "22d2262e",
   "metadata": {},
   "source": [
    " ### 7) develop or write a python program to interchange the digits integer number[hint,input:23456,interchange:3&5, output:2 5 4 3 6]"
   ]
  },
  {
   "cell_type": "code",
   "execution_count": 3,
   "id": "d4c1838f",
   "metadata": {},
   "outputs": [
    {
     "name": "stdout",
     "output_type": "stream",
     "text": [
      "enter the user input12345\n",
      "enter the first position which you want to swap:1\n",
      "enter the second position which you want to swap:2\n",
      "original number: 12345\n",
      "interchanged number: 21345\n"
     ]
    }
   ],
   "source": [
    "def interchange_digits(number,pos1,pos2):\n",
    "    number_str=str(number)\n",
    "    number_list=list(number_str)\n",
    "    number_list[pos1-1],number_list[pos2-1]=number_list[pos2-1],number_list[pos1-1]\n",
    "    interchanged_number=int(\"\".join(number_list))\n",
    "    return interchanged_number\n",
    "number=int(input(\"enter the user input\"))\n",
    "pos1=int(input(\"enter the first position which you want to swap:\"))\n",
    "pos2=int(input(\"enter the second position which you want to swap:\"))\n",
    "interchanged_number=interchange_digits(number,pos1,pos2)\n",
    "print(\"original number:\",number)\n",
    "print(\"interchanged number:\",interchanged_number)    "
   ]
  },
  {
   "cell_type": "markdown",
   "id": "6c913a39",
   "metadata": {},
   "source": [
    "### 8) Develop a python to capitalize a given list."
   ]
  },
  {
   "cell_type": "code",
   "execution_count": 1,
   "id": "e8337247",
   "metadata": {},
   "outputs": [
    {
     "name": "stdout",
     "output_type": "stream",
     "text": [
      "['Hello', 'Good', 'How', 'Simple']\n"
     ]
    }
   ],
   "source": [
    "def capitalize_string(string_list):\n",
    "    return [s.capitalize() for s in string_list]\n",
    "input_string=['hello','good','how','simple']\n",
    "capitalized_string=capitalize_string(input_string)\n",
    "print(capitalized_string)"
   ]
  },
  {
   "cell_type": "markdown",
   "id": "3b9fef6d",
   "metadata": {},
   "source": [
    "### 9) Using a dictionary develop a python program to determine and print the no of duplicate words in a sentence."
   ]
  },
  {
   "cell_type": "code",
   "execution_count": 3,
   "id": "adcdfd9d",
   "metadata": {},
   "outputs": [
    {
     "name": "stdout",
     "output_type": "stream",
     "text": [
      "enter a sentence hi hello hi hello\n",
      "duplicate words &their counts:\n",
      "hi:2\n",
      "hello:2\n"
     ]
    }
   ],
   "source": [
    "def count_duplicate_words(sentence):\n",
    "    words=sentence.split()\n",
    "    word_count={}\n",
    "    for word in words:\n",
    "        word =word.lower()\n",
    "        if word in word_count:\n",
    "            word_count[word]+=1\n",
    "        else:\n",
    "            word_count[word]=1\n",
    "    duplicate={word:count for word,count in word_count.items() if count>1}\n",
    "    if duplicate:\n",
    "        print(\"duplicate words &their counts:\")\n",
    "        for word,count in duplicate.items():\n",
    "            print(f\"{word}:{count}\")\n",
    "    else:\n",
    "            print(\"no duplicate word is found\")\n",
    "sentence=input(\"enter a sentence \")\n",
    "count_duplicate_words(sentence)"
   ]
  },
  {
   "cell_type": "markdown",
   "id": "4f6f3768",
   "metadata": {},
   "source": [
    "### 10) Develop a python program to read Numpy array and print row(sum,mean,std) and column(sum,mean,std)\n"
   ]
  },
  {
   "cell_type": "code",
   "execution_count": 5,
   "id": "2ab59ec9",
   "metadata": {},
   "outputs": [
    {
     "name": "stdout",
     "output_type": "stream",
     "text": [
      "Numpy array\n",
      "[[1 2 3]\n",
      " [4 5 6]]\n",
      "---------------\n",
      "Row sum\n",
      "[ 6 15]\n",
      "Column sum\n",
      "[5 7 9]\n",
      "---------------\n",
      "Row mean\n",
      "[2. 5.]\n",
      "Column mean\n",
      "[2.5 3.5 4.5]\n",
      "---------------\n",
      "Row STD\n",
      "[0.81649658 0.81649658]\n",
      "column STD\n",
      "[1.5 1.5 1.5]\n"
     ]
    }
   ],
   "source": [
    "from numpy import asarray\n",
    "data=[[1,2,3],[4,5,6]]\n",
    "data=asarray(data)\n",
    "print(\"Numpy array\")\n",
    "print(data)\n",
    "print(\"---------------\")\n",
    "totalr=data.sum(axis=1)\n",
    "totalc=data.sum(axis=0)\n",
    "print(\"Row sum\")\n",
    "print(totalr)\n",
    "print(\"Column sum\")\n",
    "print(totalc)\n",
    "print(\"---------------\")\n",
    "meanr=data.mean(axis=1)\n",
    "meanc=data.mean(axis=0)\n",
    "print(\"Row mean\")\n",
    "print(meanr)\n",
    "print(\"Column mean\")\n",
    "print(meanc)\n",
    "print(\"---------------\")\n",
    "stdr=data.std(axis=1)\n",
    "stdc=data.std(axis=0)\n",
    "print(\"Row STD\")\n",
    "print(stdr)\n",
    "print(\"column STD\")\n",
    "print(stdc)\n"
   ]
  },
  {
   "cell_type": "markdown",
   "id": "7dbf1921",
   "metadata": {},
   "source": [
    "### 11) Develop a python program to read and print in the console"
   ]
  },
  {
   "cell_type": "code",
   "execution_count": 1,
   "id": "cd356186",
   "metadata": {},
   "outputs": [
    {
     "name": "stdout",
     "output_type": "stream",
     "text": [
      "column names arename,department,birthday_month\n",
      "\tJohn Smith works in the Accounting department, and was born in november.\n",
      "\tErica Meyers works in the IT department, and was born in March.\n",
      "\tRocky works in the HR department, and was born in april.\n",
      "Processed4 lines.\n"
     ]
    }
   ],
   "source": [
    "import csv\n",
    "file=open('4vp23ai013.csv',mode='r')\n",
    "csv_reader=csv.reader(file,delimiter=',')\n",
    "line_count=0\n",
    "for row in csv_reader:\n",
    "    if line_count==0:\n",
    "        print(f'column names are{\",\".join(row)}')\n",
    "        line_count+=1\n",
    "    else:\n",
    "        print(f'\\t{row[0]} works in the {row[1]} department, and was born in {row[2]}.')\n",
    "        line_count+=1\n",
    "print(f'Processed{line_count} lines.')\n",
    "file.close()"
   ]
  },
  {
   "cell_type": "code",
   "execution_count": 8,
   "id": "4a2cce0d",
   "metadata": {},
   "outputs": [
    {
     "name": "stdout",
     "output_type": "stream",
     "text": [
      "[0 1 2 3]\n",
      "[4 5 6 7]\n"
     ]
    }
   ],
   "source": [
    "import numpy as np\n",
    "a=np.arange(4)\n",
    "b=np.arange(5)\n",
    "print(a)\n",
    "a+=4\n",
    "print(a)"
   ]
  },
  {
   "cell_type": "markdown",
   "id": "5f30ed9d",
   "metadata": {},
   "source": [
    "### 12) develop a python pogram to read a HTML file with basic tag, and construct dictionary and display the same in the console"
   ]
  },
  {
   "cell_type": "code",
   "execution_count": 4,
   "id": "b08521ad",
   "metadata": {},
   "outputs": [
    {
     "ename": "SyntaxError",
     "evalue": "invalid syntax (2045457124.py, line 9)",
     "output_type": "error",
     "traceback": [
      "\u001b[0;36m  Cell \u001b[0;32mIn[4], line 9\u001b[0;36m\u001b[0m\n\u001b[0;31m    if__name_=='__main__':\u001b[0m\n\u001b[0m                         ^\u001b[0m\n\u001b[0;31mSyntaxError\u001b[0m\u001b[0;31m:\u001b[0m invalid syntax\n"
     ]
    }
   ],
   "source": [
    "import pandas as pd \n",
    "def read_html_dict(html_file):\n",
    "    tables=pd.read_html(html_file)\n",
    "    tables_dict={}\n",
    "    for i,table in enumerate(tables):\n",
    "        table_dict=table.to_dict(orient='list')\n",
    "        tables_dict[f'Table_{i+1}']\n",
    "        return tables_dict\n",
    "if__name_=='__main__':\n",
    "    html_file='sample.html'\n",
    "    result=read_html_to_dict(html_file)\n",
    "    print(result)"
   ]
  },
  {
   "cell_type": "code",
   "execution_count": null,
   "id": "5bdb5e3a",
   "metadata": {},
   "outputs": [],
   "source": []
  }
 ],
 "metadata": {
  "kernelspec": {
   "display_name": "Python 3 (ipykernel)",
   "language": "python",
   "name": "python3"
  },
  "language_info": {
   "codemirror_mode": {
    "name": "ipython",
    "version": 3
   },
   "file_extension": ".py",
   "mimetype": "text/x-python",
   "name": "python",
   "nbconvert_exporter": "python",
   "pygments_lexer": "ipython3",
   "version": "3.10.9"
  }
 },
 "nbformat": 4,
 "nbformat_minor": 5
}
